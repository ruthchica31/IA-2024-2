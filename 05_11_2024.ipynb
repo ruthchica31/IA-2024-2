{
  "nbformat": 4,
  "nbformat_minor": 0,
  "metadata": {
    "colab": {
      "provenance": [],
      "authorship_tag": "ABX9TyPRMDCMbRv1+s/Ypux2F4Jm",
      "include_colab_link": true
    },
    "kernelspec": {
      "name": "python3",
      "display_name": "Python 3"
    },
    "language_info": {
      "name": "python"
    }
  },
  "cells": [
    {
      "cell_type": "markdown",
      "metadata": {
        "id": "view-in-github",
        "colab_type": "text"
      },
      "source": [
        "<a href=\"https://colab.research.google.com/github/ruthchica31/IA-2024-2/blob/main/05_11_2024.ipynb\" target=\"_parent\"><img src=\"https://colab.research.google.com/assets/colab-badge.svg\" alt=\"Open In Colab\"/></a>"
      ]
    },
    {
      "cell_type": "code",
      "execution_count": null,
      "metadata": {
        "id": "IN1bHoy5f9mh"
      },
      "outputs": [],
      "source": []
    },
    {
      "cell_type": "markdown",
      "source": [
        "Numpy Library"
      ],
      "metadata": {
        "id": "kSX3PS1FgDzJ"
      }
    },
    {
      "cell_type": "code",
      "source": [
        "import numpy as tmp"
      ],
      "metadata": {
        "id": "Nu1UXmWogcb4"
      },
      "execution_count": null,
      "outputs": []
    },
    {
      "cell_type": "code",
      "source": [
        "print(tmp.__version__)\n"
      ],
      "metadata": {
        "colab": {
          "base_uri": "https://localhost:8080/"
        },
        "id": "pGS4mjYWhNwX",
        "outputId": "5a815522-77af-4cf7-ad99-f1e98d9367ca"
      },
      "execution_count": null,
      "outputs": [
        {
          "output_type": "stream",
          "name": "stdout",
          "text": [
            "1.26.4\n"
          ]
        }
      ]
    },
    {
      "cell_type": "code",
      "source": [
        "myArr = tmp.array([1,2,3,4,5])\n",
        "print(myArr)"
      ],
      "metadata": {
        "colab": {
          "base_uri": "https://localhost:8080/"
        },
        "id": "CUxCtkbNh3Fv",
        "outputId": "3aefb14a-3a3c-49c4-d894-f82a527bd0ef"
      },
      "execution_count": null,
      "outputs": [
        {
          "output_type": "stream",
          "name": "stdout",
          "text": [
            "[1 2 3 4 5]\n"
          ]
        }
      ]
    },
    {
      "cell_type": "code",
      "source": [
        "print(type(myArr))"
      ],
      "metadata": {
        "colab": {
          "base_uri": "https://localhost:8080/"
        },
        "id": "98dPt-57h8Gg",
        "outputId": "8017a0eb-73ba-4a93-b0d1-ddffc59f8c81"
      },
      "execution_count": null,
      "outputs": [
        {
          "output_type": "stream",
          "name": "stdout",
          "text": [
            "<class 'numpy.ndarray'>\n"
          ]
        }
      ]
    },
    {
      "cell_type": "code",
      "source": [
        "print(myArr.shape)\n",
        "print(myArr[2])\n",
        "myArr[2] = 29\n",
        "print(myArr)"
      ],
      "metadata": {
        "colab": {
          "base_uri": "https://localhost:8080/"
        },
        "id": "vL7Go9EZiBzo",
        "outputId": "22ecb6f8-6868-4dd9-d8bc-76448728b081"
      },
      "execution_count": null,
      "outputs": [
        {
          "output_type": "stream",
          "name": "stdout",
          "text": [
            "(5,)\n",
            "10\n",
            "[ 1  2 29  4  5]\n"
          ]
        }
      ]
    },
    {
      "cell_type": "code",
      "source": [
        "myArr1=tmp.array([[1,2,3],[4,5,6]])\n",
        "print(myArr1)\n",
        "print(myArr1.shape)"
      ],
      "metadata": {
        "colab": {
          "base_uri": "https://localhost:8080/"
        },
        "id": "L4w973_hiyiX",
        "outputId": "58405a4a-0a26-423d-91b0-845d26fb986e"
      },
      "execution_count": null,
      "outputs": [
        {
          "output_type": "stream",
          "name": "stdout",
          "text": [
            "[[1 2 3]\n",
            " [4 5 6]]\n",
            "(2, 3)\n"
          ]
        }
      ]
    },
    {
      "cell_type": "code",
      "source": [
        "myArr3=tmp.zeros((5,5))\n",
        "print(myArr3)\n"
      ],
      "metadata": {
        "colab": {
          "base_uri": "https://localhost:8080/"
        },
        "id": "JGepqk3LjAW3",
        "outputId": "69972bc1-f0e6-44ae-e83e-d0179af5847f"
      },
      "execution_count": null,
      "outputs": [
        {
          "output_type": "stream",
          "name": "stdout",
          "text": [
            "[[0. 0. 0. 0. 0.]\n",
            " [0. 0. 0. 0. 0.]\n",
            " [0. 0. 0. 0. 0.]\n",
            " [0. 0. 0. 0. 0.]\n",
            " [0. 0. 0. 0. 0.]]\n"
          ]
        }
      ]
    },
    {
      "cell_type": "code",
      "source": [
        "myArr4=tmp.full((3,6),10)\n",
        "print(myArr4)\n",
        "myArr5=tmp.eye(5)\n",
        "print(myArr5)\n",
        "myArr6=tmp.random.random((3,4))\n",
        "print(myArr6)"
      ],
      "metadata": {
        "colab": {
          "base_uri": "https://localhost:8080/"
        },
        "id": "zHTso0ikjenx",
        "outputId": "90123ac5-829c-43d5-c8ba-e0e673370f4f"
      },
      "execution_count": null,
      "outputs": [
        {
          "output_type": "stream",
          "name": "stdout",
          "text": [
            "[[10 10 10 10 10 10]\n",
            " [10 10 10 10 10 10]\n",
            " [10 10 10 10 10 10]]\n",
            "[[1. 0. 0. 0. 0.]\n",
            " [0. 1. 0. 0. 0.]\n",
            " [0. 0. 1. 0. 0.]\n",
            " [0. 0. 0. 1. 0.]\n",
            " [0. 0. 0. 0. 1.]]\n",
            "[[0.34299808 0.97878199 0.21436882 0.54735629]\n",
            " [0.20490155 0.64877764 0.19187911 0.27510043]\n",
            " [0.1163527  0.44908068 0.73600071 0.29873526]]\n"
          ]
        }
      ]
    },
    {
      "cell_type": "code",
      "source": [
        "myArr7=tmp.random.random((5,5))\n",
        "print(myArr7)"
      ],
      "metadata": {
        "colab": {
          "base_uri": "https://localhost:8080/"
        },
        "id": "6WHjV1sqkEcf",
        "outputId": "72c0a6bf-3337-42cb-95f5-2afd4c6d18c2"
      },
      "execution_count": null,
      "outputs": [
        {
          "output_type": "stream",
          "name": "stdout",
          "text": [
            "[[0.99587664 0.36674343 0.86459688 0.15271238 0.73321426]\n",
            " [0.70698554 0.51793265 0.94285242 0.58066919 0.27347871]\n",
            " [0.53131576 0.72903392 0.27182263 0.14212652 0.90643171]\n",
            " [0.0637591  0.79337691 0.65480723 0.6217096  0.68678729]\n",
            " [0.72040408 0.22002142 0.5822406  0.87510018 0.85152758]]\n"
          ]
        }
      ]
    },
    {
      "cell_type": "code",
      "source": [
        "myArr8=tmp.random.randint(100,size=(5,5))\n",
        "print(myArr8)"
      ],
      "metadata": {
        "colab": {
          "base_uri": "https://localhost:8080/"
        },
        "id": "dB6DQOpLkNlW",
        "outputId": "bd2f1529-c6b8-41e6-8e3d-0fb6fee3d391"
      },
      "execution_count": null,
      "outputs": [
        {
          "output_type": "stream",
          "name": "stdout",
          "text": [
            "[[23 42 39  3 78]\n",
            " [24 95 62 80 36]\n",
            " [47 57  0 19 16]\n",
            " [68 28 56  5 80]\n",
            " [44 22  6 36 11]]\n"
          ]
        }
      ]
    },
    {
      "cell_type": "code",
      "source": [
        "newMatrix=myArr8[:2,:2]\n",
        "print(newMatrix)"
      ],
      "metadata": {
        "colab": {
          "base_uri": "https://localhost:8080/"
        },
        "id": "ivTfE_cTklFX",
        "outputId": "09f7dd68-a2c1-4140-d9b0-7d51085b924e"
      },
      "execution_count": null,
      "outputs": [
        {
          "output_type": "stream",
          "name": "stdout",
          "text": [
            "[[23 42]\n",
            " [24 95]]\n"
          ]
        }
      ]
    },
    {
      "cell_type": "code",
      "source": [
        "myArr8[2,2]=1000\n",
        "print(myArr8)"
      ],
      "metadata": {
        "colab": {
          "base_uri": "https://localhost:8080/"
        },
        "id": "LG-jhC44lTF_",
        "outputId": "ced14891-3600-4b38-917d-852fab714676"
      },
      "execution_count": null,
      "outputs": [
        {
          "output_type": "stream",
          "name": "stdout",
          "text": [
            "[[  23   42   39    3   78]\n",
            " [  24   95   62   80   36]\n",
            " [  47   57 1000   19   16]\n",
            " [  68   28   56    5   80]\n",
            " [  44   22    6   36   11]]\n"
          ]
        }
      ]
    },
    {
      "cell_type": "code",
      "source": [
        "print(myArr8[2,:])"
      ],
      "metadata": {
        "colab": {
          "base_uri": "https://localhost:8080/"
        },
        "id": "h3vTAPsIl5F1",
        "outputId": "559145c7-c6c1-4cd3-cb88-899ac05c525f"
      },
      "execution_count": null,
      "outputs": [
        {
          "output_type": "stream",
          "name": "stdout",
          "text": [
            "[  47   57 1000   19   16]\n"
          ]
        }
      ]
    },
    {
      "cell_type": "code",
      "source": [
        "print(myArr8[:,2].shape)"
      ],
      "metadata": {
        "colab": {
          "base_uri": "https://localhost:8080/"
        },
        "id": "BHENr15FmHxV",
        "outputId": "821b143c-c23e-4a2e-abec-629b03146865"
      },
      "execution_count": null,
      "outputs": [
        {
          "output_type": "stream",
          "name": "stdout",
          "text": [
            "(5,)\n"
          ]
        }
      ]
    },
    {
      "cell_type": "code",
      "source": [
        "subMatrix=myArr8[1:4,1:4]\n",
        "print(subMatrix)"
      ],
      "metadata": {
        "colab": {
          "base_uri": "https://localhost:8080/"
        },
        "id": "bA5zSI_smQn1",
        "outputId": "2056e102-f23d-497f-b108-99b77df8bc08"
      },
      "execution_count": null,
      "outputs": [
        {
          "output_type": "stream",
          "name": "stdout",
          "text": [
            "[[  95   62   80]\n",
            " [  57 1000   19]\n",
            " [  28   56    5]]\n"
          ]
        }
      ]
    },
    {
      "cell_type": "code",
      "source": [
        "#\n",
        "import numpy as np\n",
        "matrixA=np.array([[11,12,13,14],[21,22,23,24],[31,32,33,34]])\n",
        "print(matrixA.shape)"
      ],
      "metadata": {
        "colab": {
          "base_uri": "https://localhost:8080/"
        },
        "id": "NBtbYD8wk-qi",
        "outputId": "e88b3e9b-d5d8-456f-d277-4864a3053523"
      },
      "execution_count": null,
      "outputs": [
        {
          "output_type": "stream",
          "name": "stdout",
          "text": [
            "(3, 4)\n"
          ]
        }
      ]
    },
    {
      "cell_type": "code",
      "source": [
        "matrixA"
      ],
      "metadata": {
        "colab": {
          "base_uri": "https://localhost:8080/"
        },
        "id": "QNgBk8EwnNpi",
        "outputId": "240a1394-b268-434b-b907-a9d688ba8716"
      },
      "execution_count": null,
      "outputs": [
        {
          "output_type": "execute_result",
          "data": {
            "text/plain": [
              "array([[11, 12, 13, 14],\n",
              "       [21, 22, 23, 24],\n",
              "       [31, 32, 33, 34]])"
            ]
          },
          "metadata": {},
          "execution_count": 2
        }
      ]
    },
    {
      "cell_type": "code",
      "source": [
        "print(matrixA[1:,1:3])"
      ],
      "metadata": {
        "colab": {
          "base_uri": "https://localhost:8080/"
        },
        "id": "NwO2470RnT7X",
        "outputId": "c1c3b286-a3e8-49fa-f43c-ba00f6419565"
      },
      "execution_count": null,
      "outputs": [
        {
          "output_type": "stream",
          "name": "stdout",
          "text": [
            "[[22 23]\n",
            " [32 33]]\n"
          ]
        }
      ]
    },
    {
      "cell_type": "code",
      "source": [
        "# Create a 4x3 matrix filled with zeros\n",
        "matrixB = np.random.randint(0,10,size=(4, 3))\n",
        "print(matrixB)\n"
      ],
      "metadata": {
        "colab": {
          "base_uri": "https://localhost:8080/"
        },
        "id": "wRHsd_Y8nqXx",
        "outputId": "fbadbd6e-a713-4c5a-e446-0da411533b92"
      },
      "execution_count": null,
      "outputs": [
        {
          "output_type": "stream",
          "name": "stdout",
          "text": [
            "[[3 4 6]\n",
            " [5 5 7]\n",
            " [4 2 3]\n",
            " [9 7 9]]\n"
          ]
        }
      ]
    },
    {
      "cell_type": "code",
      "source": [
        "print(matrixB)\n",
        "col_indices = np.array([0, 1, 2])\n",
        "row_indices = np.array([1, 2])\n",
        "for row_indices in zip(row_indices, col_indices):\n",
        "        #print(row,\"_\",col)\n",
        "        print(matrixB[row_indices])\n"
      ],
      "metadata": {
        "colab": {
          "base_uri": "https://localhost:8080/"
        },
        "id": "E6r1ymqhoT2Q",
        "outputId": "87d22acb-02c0-488d-da40-268704d3053f"
      },
      "execution_count": null,
      "outputs": [
        {
          "output_type": "stream",
          "name": "stdout",
          "text": [
            "[[3 4 6]\n",
            " [5 5 7]\n",
            " [4 2 3]\n",
            " [9 7 9]]\n",
            "5\n",
            "2\n"
          ]
        }
      ]
    },
    {
      "cell_type": "code",
      "source": [
        "print(matrixB)"
      ],
      "metadata": {
        "colab": {
          "base_uri": "https://localhost:8080/"
        },
        "id": "1O3NoqPWqGCD",
        "outputId": "fa00d111-29a7-40d9-8306-0bc91cb93320"
      },
      "execution_count": null,
      "outputs": [
        {
          "output_type": "stream",
          "name": "stdout",
          "text": [
            "[[3 4 6]\n",
            " [5 5 7]\n",
            " [4 2 3]\n",
            " [9 7 9]]\n"
          ]
        }
      ]
    },
    {
      "cell_type": "code",
      "source": [
        "matrixB[matrixB%2==0]+=100\n",
        "print(matrixB)"
      ],
      "metadata": {
        "colab": {
          "base_uri": "https://localhost:8080/"
        },
        "id": "DS5kX3JUqeCZ",
        "outputId": "81a68805-8e3f-4ff8-87d1-bed1d4095282"
      },
      "execution_count": null,
      "outputs": [
        {
          "output_type": "stream",
          "name": "stdout",
          "text": [
            "[[  3 104 106]\n",
            " [  5   5   7]\n",
            " [104 102   3]\n",
            " [  9   7   9]]\n"
          ]
        }
      ]
    },
    {
      "cell_type": "code",
      "source": [
        "print(matrixB)"
      ],
      "metadata": {
        "colab": {
          "base_uri": "https://localhost:8080/"
        },
        "id": "OdzZO9zUrnlN",
        "outputId": "125b6274-2687-4d12-ac60-c301a64f33ac"
      },
      "execution_count": null,
      "outputs": [
        {
          "output_type": "stream",
          "name": "stdout",
          "text": [
            "[[  3 104 106]\n",
            " [  5   5   7]\n",
            " [104 102   3]\n",
            " [  9   7   9]]\n"
          ]
        }
      ]
    },
    {
      "cell_type": "code",
      "source": [
        "matrixC=np.random.rand(2,2)\n",
        "print(matrixC)"
      ],
      "metadata": {
        "colab": {
          "base_uri": "https://localhost:8080/"
        },
        "id": "ca_-uJvisAF-",
        "outputId": "f462b4c5-4a2f-4434-c09d-646ffea3a51c"
      },
      "execution_count": null,
      "outputs": [
        {
          "output_type": "stream",
          "name": "stdout",
          "text": [
            "[[0.22896703 0.35702538]\n",
            " [0.43861468 0.27926908]]\n"
          ]
        }
      ]
    },
    {
      "cell_type": "code",
      "source": [
        "filter=(matrixB>3) & (matrixB<9)\n",
        "matrixB[filter]+=100\n",
        "print(matrixB)"
      ],
      "metadata": {
        "colab": {
          "base_uri": "https://localhost:8080/"
        },
        "id": "N8EpiW2Rs5xF",
        "outputId": "1e37949a-0121-4d14-d0cc-8a41b41337c1"
      },
      "execution_count": null,
      "outputs": [
        {
          "output_type": "stream",
          "name": "stdout",
          "text": [
            "[[  3 104 106]\n",
            " [105 105 107]\n",
            " [104 102   3]\n",
            " [  9 107   9]]\n"
          ]
        }
      ]
    },
    {
      "cell_type": "code",
      "source": [
        "matrixA1=np.random.randint(0,10, size=(2,2))\n",
        "matrixA2=np.random.randint(0,10, size=(2,2))\n",
        "print(matrixA1)\n",
        "print(matrixA2)"
      ],
      "metadata": {
        "colab": {
          "base_uri": "https://localhost:8080/"
        },
        "id": "nusHfgMdujW3",
        "outputId": "4c65beed-4d52-46ee-bc92-76e0b55cfa44"
      },
      "execution_count": null,
      "outputs": [
        {
          "output_type": "stream",
          "name": "stdout",
          "text": [
            "[[5 3]\n",
            " [1 7]]\n",
            "[[0 7]\n",
            " [6 0]]\n"
          ]
        }
      ]
    },
    {
      "cell_type": "code",
      "source": [
        "print(matrixA1+matrixA2)\n",
        "print(matrixA1-matrixA2)\n",
        "print(matrixA1*matrixA2)\n",
        "print(matrixA1/matrixA2)\n"
      ],
      "metadata": {
        "colab": {
          "base_uri": "https://localhost:8080/"
        },
        "id": "lo6eFfIQvYy7",
        "outputId": "accab5c8-f98b-4c41-8755-3e9743ffe46c"
      },
      "execution_count": null,
      "outputs": [
        {
          "output_type": "stream",
          "name": "stdout",
          "text": [
            "[[ 5 10]\n",
            " [ 7  7]]\n",
            "[[ 5 -4]\n",
            " [-5  7]]\n",
            "[[ 0 21]\n",
            " [ 6  0]]\n",
            "[[       inf 0.42857143]\n",
            " [0.16666667        inf]]\n"
          ]
        },
        {
          "output_type": "stream",
          "name": "stderr",
          "text": [
            "<ipython-input-40-d9a4810fe26b>:4: RuntimeWarning: divide by zero encountered in divide\n",
            "  print(matrixA1/matrixA2)\n"
          ]
        }
      ]
    },
    {
      "cell_type": "code",
      "source": [
        "print((matrixA1))"
      ],
      "metadata": {
        "colab": {
          "base_uri": "https://localhost:8080/"
        },
        "id": "JlO7Are7vv8l",
        "outputId": "bc5053ef-7233-4d45-9928-ac64042bb591"
      },
      "execution_count": null,
      "outputs": [
        {
          "output_type": "stream",
          "name": "stdout",
          "text": [
            "[[5 3]\n",
            " [1 7]]\n"
          ]
        }
      ]
    },
    {
      "cell_type": "code",
      "source": [
        "print(np.sqrt(matrixA1))"
      ],
      "metadata": {
        "colab": {
          "base_uri": "https://localhost:8080/"
        },
        "id": "8uGQZiTevsr9",
        "outputId": "190616c9-b729-49df-ec94-8fe115b15178"
      },
      "execution_count": null,
      "outputs": [
        {
          "output_type": "stream",
          "name": "stdout",
          "text": [
            "[[2.23606798 1.73205081]\n",
            " [1.         2.64575131]]\n"
          ]
        }
      ]
    },
    {
      "cell_type": "code",
      "source": [
        "matrixA1=np.random.randint(0,10, size=(2,5))\n",
        "print(matrixA1)"
      ],
      "metadata": {
        "colab": {
          "base_uri": "https://localhost:8080/"
        },
        "id": "NrM3s_STv1ap",
        "outputId": "45fcb66c-b6ef-4518-9944-df4bb52b6df6"
      },
      "execution_count": null,
      "outputs": [
        {
          "output_type": "stream",
          "name": "stdout",
          "text": [
            "[[4 2 5 3 0]\n",
            " [8 1 6 6 3]]\n"
          ]
        }
      ]
    },
    {
      "cell_type": "code",
      "source": [
        "print(np.mean(matrixA1))\n"
      ],
      "metadata": {
        "colab": {
          "base_uri": "https://localhost:8080/"
        },
        "id": "eKK9J0ncwK1g",
        "outputId": "9b55bba0-f600-48fe-f9b0-2e27320a0193"
      },
      "execution_count": null,
      "outputs": [
        {
          "output_type": "stream",
          "name": "stdout",
          "text": [
            "3.8\n"
          ]
        }
      ]
    },
    {
      "cell_type": "code",
      "source": [
        "print(matrixA1.mean(axis=1))\n"
      ],
      "metadata": {
        "colab": {
          "base_uri": "https://localhost:8080/"
        },
        "id": "nWYjF0OkwSDc",
        "outputId": "13232ac8-a0a3-452d-e63f-96918d704824"
      },
      "execution_count": null,
      "outputs": [
        {
          "output_type": "stream",
          "name": "stdout",
          "text": [
            "[2.8 4.8]\n"
          ]
        }
      ]
    },
    {
      "cell_type": "code",
      "source": [
        "print(matrixA1.mean(axis=0))"
      ],
      "metadata": {
        "colab": {
          "base_uri": "https://localhost:8080/"
        },
        "id": "VhujqNOBwic-",
        "outputId": "5b7ead88-b249-491e-e1ce-12eadb54aeb9"
      },
      "execution_count": null,
      "outputs": [
        {
          "output_type": "stream",
          "name": "stdout",
          "text": [
            "[6.  1.5 5.5 4.5 1.5]\n"
          ]
        }
      ]
    },
    {
      "cell_type": "code",
      "source": [
        "print(np.std(matrixA1))"
      ],
      "metadata": {
        "colab": {
          "base_uri": "https://localhost:8080/"
        },
        "id": "PjU7CjHiwpRB",
        "outputId": "794bc2a9-139f-4671-b159-ea09d88c6a1f"
      },
      "execution_count": null,
      "outputs": [
        {
          "output_type": "stream",
          "name": "stdout",
          "text": [
            "2.3579652245103193\n"
          ]
        }
      ]
    },
    {
      "cell_type": "code",
      "source": [
        "print(np.median(matrixA1))\n"
      ],
      "metadata": {
        "colab": {
          "base_uri": "https://localhost:8080/"
        },
        "id": "UqGsOLDsw6Sy",
        "outputId": "28d027b9-03b8-404d-b618-a56b292be2fd"
      },
      "execution_count": null,
      "outputs": [
        {
          "output_type": "stream",
          "name": "stdout",
          "text": [
            "3.5\n"
          ]
        }
      ]
    },
    {
      "cell_type": "code",
      "source": [
        "print(matrixA1.sum())"
      ],
      "metadata": {
        "colab": {
          "base_uri": "https://localhost:8080/"
        },
        "id": "2fXHmEKGw9ok",
        "outputId": "4a4925db-d6a4-4e86-eb8b-5fae5126fe75"
      },
      "execution_count": null,
      "outputs": [
        {
          "output_type": "stream",
          "name": "stdout",
          "text": [
            "38\n"
          ]
        }
      ]
    },
    {
      "cell_type": "code",
      "source": [
        "print(matrixA1.max())"
      ],
      "metadata": {
        "colab": {
          "base_uri": "https://localhost:8080/"
        },
        "id": "6-3-dkwAxGmB",
        "outputId": "ae88c674-5df6-4e6d-82b2-4ee68d3bf54c"
      },
      "execution_count": null,
      "outputs": [
        {
          "output_type": "stream",
          "name": "stdout",
          "text": [
            "8\n"
          ]
        }
      ]
    },
    {
      "cell_type": "code",
      "source": [
        "start=np.zeros((4,3))\n",
        "print(start)"
      ],
      "metadata": {
        "colab": {
          "base_uri": "https://localhost:8080/"
        },
        "id": "EAZaSocyxVri",
        "outputId": "087cbdf0-f328-479a-df5e-b7f51fdb9f4a"
      },
      "execution_count": null,
      "outputs": [
        {
          "output_type": "stream",
          "name": "stdout",
          "text": [
            "[[0. 0. 0.]\n",
            " [0. 0. 0.]\n",
            " [0. 0. 0.]\n",
            " [0. 0. 0.]]\n"
          ]
        }
      ]
    },
    {
      "cell_type": "code",
      "source": [
        "add_rows=np.array([1,2,3])\n",
        "print(add_rows.shape)"
      ],
      "metadata": {
        "colab": {
          "base_uri": "https://localhost:8080/"
        },
        "id": "tb5ILQU7yIxM",
        "outputId": "bdc105d5-6ddc-4fb8-ed0b-dec0508134fe"
      },
      "execution_count": null,
      "outputs": [
        {
          "output_type": "stream",
          "name": "stdout",
          "text": [
            "(3,)\n"
          ]
        }
      ]
    },
    {
      "cell_type": "code",
      "source": [
        "y=start+add_rows\n",
        "print(y)"
      ],
      "metadata": {
        "colab": {
          "base_uri": "https://localhost:8080/"
        },
        "id": "LKYXOCPRyX1S",
        "outputId": "ba8e2a32-c88c-474d-97df-bae2cf5c2086"
      },
      "execution_count": null,
      "outputs": [
        {
          "output_type": "stream",
          "name": "stdout",
          "text": [
            "[[1. 2. 3.]\n",
            " [1. 2. 3.]\n",
            " [1. 2. 3.]\n",
            " [1. 2. 3.]]\n"
          ]
        }
      ]
    },
    {
      "cell_type": "code",
      "source": [
        "print(start)"
      ],
      "metadata": {
        "colab": {
          "base_uri": "https://localhost:8080/"
        },
        "id": "tpCsWoFhyhS5",
        "outputId": "3ca59532-b430-474e-c8af-c911ea3bfed1"
      },
      "execution_count": null,
      "outputs": [
        {
          "output_type": "stream",
          "name": "stdout",
          "text": [
            "[[0. 0. 0.]\n",
            " [0. 0. 0.]\n",
            " [0. 0. 0.]\n",
            " [0. 0. 0.]]\n"
          ]
        }
      ]
    },
    {
      "cell_type": "code",
      "source": [
        "#col_rows=np.array([[1,2,3,4]])\n",
        "print (start)\n",
        "#col_rows=col_rows.T\n",
        "#print(col_rows.T)\n",
        "tmp=col_rows.T\n",
        "#print(tmp.shape)\n",
        "y2=start+tmp\n",
        "print(y2)"
      ],
      "metadata": {
        "colab": {
          "base_uri": "https://localhost:8080/"
        },
        "id": "sEkJzyF7yoFD",
        "outputId": "2210303e-4966-4610-cd74-86d624ba57e3"
      },
      "execution_count": null,
      "outputs": [
        {
          "output_type": "stream",
          "name": "stdout",
          "text": [
            "[[0. 0. 0.]\n",
            " [0. 0. 0.]\n",
            " [0. 0. 0.]\n",
            " [0. 0. 0.]]\n",
            "[[1. 1. 1.]\n",
            " [2. 2. 2.]\n",
            " [3. 3. 3.]\n",
            " [4. 4. 4.]]\n"
          ]
        }
      ]
    },
    {
      "cell_type": "code",
      "source": [
        "tmp1=np.array([[1,1],[2,2]])\n",
        "tmp2=np.array([[3,3],[4,4]])\n",
        "print(tmp1)\n",
        "print(tmp2)"
      ],
      "metadata": {
        "colab": {
          "base_uri": "https://localhost:8080/"
        },
        "id": "W_7PaaY6zCCq",
        "outputId": "026ca072-481f-4957-9224-8c7da865baa5"
      },
      "execution_count": null,
      "outputs": [
        {
          "output_type": "stream",
          "name": "stdout",
          "text": [
            "[[1 1]\n",
            " [2 2]]\n",
            "[[3 3]\n",
            " [4 4]]\n"
          ]
        }
      ]
    },
    {
      "cell_type": "code",
      "source": [
        "y1=np.random.randint(low=2,high=50,size(2,2))\n",
        "y2=np.random.randint(low=2,high=50,size(2,2))\n",
        "print(y1)\n",
        "print(y2)"
      ],
      "metadata": {
        "colab": {
          "base_uri": "https://localhost:8080/",
          "height": 106
        },
        "id": "s1cN2TLh2QWh",
        "outputId": "2f019c04-d860-40ba-d0e8-6895041e8c16"
      },
      "execution_count": null,
      "outputs": [
        {
          "output_type": "error",
          "ename": "SyntaxError",
          "evalue": "positional argument follows keyword argument (<ipython-input-72-5e5e1d2b963c>, line 1)",
          "traceback": [
            "\u001b[0;36m  File \u001b[0;32m\"<ipython-input-72-5e5e1d2b963c>\"\u001b[0;36m, line \u001b[0;32m1\u001b[0m\n\u001b[0;31m    y1=np.random.randint(low=2,high=50,size(2,2))\u001b[0m\n\u001b[0m                                                ^\u001b[0m\n\u001b[0;31mSyntaxError\u001b[0m\u001b[0;31m:\u001b[0m positional argument follows keyword argument\n"
          ]
        }
      ]
    },
    {
      "cell_type": "code",
      "source": [
        "np.vstact((y1,y2))"
      ],
      "metadata": {
        "colab": {
          "base_uri": "https://localhost:8080/",
          "height": 263
        },
        "id": "pAo8iWEX20XL",
        "outputId": "f7d5b1e2-fd43-4b42-b51e-1ed2ac9bade2"
      },
      "execution_count": null,
      "outputs": [
        {
          "output_type": "error",
          "ename": "AttributeError",
          "evalue": "module 'numpy' has no attribute 'vstact'",
          "traceback": [
            "\u001b[0;31m---------------------------------------------------------------------------\u001b[0m",
            "\u001b[0;31mAttributeError\u001b[0m                            Traceback (most recent call last)",
            "\u001b[0;32m<ipython-input-73-163e9c1c275c>\u001b[0m in \u001b[0;36m<cell line: 1>\u001b[0;34m()\u001b[0m\n\u001b[0;32m----> 1\u001b[0;31m \u001b[0mnp\u001b[0m\u001b[0;34m.\u001b[0m\u001b[0mvstact\u001b[0m\u001b[0;34m(\u001b[0m\u001b[0;34m(\u001b[0m\u001b[0my1\u001b[0m\u001b[0;34m,\u001b[0m\u001b[0my2\u001b[0m\u001b[0;34m)\u001b[0m\u001b[0;34m)\u001b[0m\u001b[0;34m\u001b[0m\u001b[0;34m\u001b[0m\u001b[0m\n\u001b[0m",
            "\u001b[0;32m/usr/local/lib/python3.10/dist-packages/numpy/__init__.py\u001b[0m in \u001b[0;36m__getattr__\u001b[0;34m(attr)\u001b[0m\n\u001b[1;32m    331\u001b[0m             \u001b[0;32mraise\u001b[0m \u001b[0mRuntimeError\u001b[0m\u001b[0;34m(\u001b[0m\u001b[0;34m\"Tester was removed in NumPy 1.25.\"\u001b[0m\u001b[0;34m)\u001b[0m\u001b[0;34m\u001b[0m\u001b[0;34m\u001b[0m\u001b[0m\n\u001b[1;32m    332\u001b[0m \u001b[0;34m\u001b[0m\u001b[0m\n\u001b[0;32m--> 333\u001b[0;31m         raise AttributeError(\"module {!r} has no attribute \"\n\u001b[0m\u001b[1;32m    334\u001b[0m                              \"{!r}\".format(__name__, attr))\n\u001b[1;32m    335\u001b[0m \u001b[0;34m\u001b[0m\u001b[0m\n",
            "\u001b[0;31mAttributeError\u001b[0m: module 'numpy' has no attribute 'vstact'"
          ]
        }
      ]
    },
    {
      "cell_type": "code",
      "source": [],
      "metadata": {
        "id": "zg-i2NKV29PP"
      },
      "execution_count": null,
      "outputs": []
    }
  ]
}