{
  "nbformat": 4,
  "nbformat_minor": 0,
  "metadata": {
    "colab": {
      "provenance": [],
      "authorship_tag": "ABX9TyNY1eWvBFrE4CNzLoOX+7Fr",
      "include_colab_link": true
    },
    "kernelspec": {
      "name": "python3",
      "display_name": "Python 3"
    },
    "language_info": {
      "name": "python"
    }
  },
  "cells": [
    {
      "cell_type": "markdown",
      "metadata": {
        "id": "view-in-github",
        "colab_type": "text"
      },
      "source": [
        "<a href=\"https://colab.research.google.com/github/ruthchica31/IA-2024-2/blob/main/29_10_2024.ipynb\" target=\"_parent\"><img src=\"https://colab.research.google.com/assets/colab-badge.svg\" alt=\"Open In Colab\"/></a>"
      ]
    },
    {
      "cell_type": "code",
      "execution_count": null,
      "metadata": {
        "id": "IN1bHoy5f9mh"
      },
      "outputs": [],
      "source": []
    },
    {
      "cell_type": "markdown",
      "source": [
        "Numpy Library"
      ],
      "metadata": {
        "id": "kSX3PS1FgDzJ"
      }
    },
    {
      "cell_type": "code",
      "source": [
        "import numpy as tmp"
      ],
      "metadata": {
        "id": "Nu1UXmWogcb4"
      },
      "execution_count": 1,
      "outputs": []
    },
    {
      "cell_type": "code",
      "source": [
        "print(tmp.__version__)\n"
      ],
      "metadata": {
        "colab": {
          "base_uri": "https://localhost:8080/"
        },
        "id": "pGS4mjYWhNwX",
        "outputId": "5a815522-77af-4cf7-ad99-f1e98d9367ca"
      },
      "execution_count": 2,
      "outputs": [
        {
          "output_type": "stream",
          "name": "stdout",
          "text": [
            "1.26.4\n"
          ]
        }
      ]
    },
    {
      "cell_type": "code",
      "source": [
        "myArr = tmp.array([1,2,3,4,5])\n",
        "print(myArr)"
      ],
      "metadata": {
        "colab": {
          "base_uri": "https://localhost:8080/"
        },
        "id": "CUxCtkbNh3Fv",
        "outputId": "3aefb14a-3a3c-49c4-d894-f82a527bd0ef"
      },
      "execution_count": 4,
      "outputs": [
        {
          "output_type": "stream",
          "name": "stdout",
          "text": [
            "[1 2 3 4 5]\n"
          ]
        }
      ]
    },
    {
      "cell_type": "code",
      "source": [
        "print(type(myArr))"
      ],
      "metadata": {
        "colab": {
          "base_uri": "https://localhost:8080/"
        },
        "id": "98dPt-57h8Gg",
        "outputId": "8017a0eb-73ba-4a93-b0d1-ddffc59f8c81"
      },
      "execution_count": 5,
      "outputs": [
        {
          "output_type": "stream",
          "name": "stdout",
          "text": [
            "<class 'numpy.ndarray'>\n"
          ]
        }
      ]
    },
    {
      "cell_type": "code",
      "source": [
        "print(myArr.shape)\n",
        "print(myArr[2])\n",
        "myArr[2] = 29\n",
        "print(myArr)"
      ],
      "metadata": {
        "colab": {
          "base_uri": "https://localhost:8080/"
        },
        "id": "vL7Go9EZiBzo",
        "outputId": "22ecb6f8-6868-4dd9-d8bc-76448728b081"
      },
      "execution_count": 11,
      "outputs": [
        {
          "output_type": "stream",
          "name": "stdout",
          "text": [
            "(5,)\n",
            "10\n",
            "[ 1  2 29  4  5]\n"
          ]
        }
      ]
    },
    {
      "cell_type": "code",
      "source": [
        "myArr1=tmp.array([[1,2,3],[4,5,6]])\n",
        "print(myArr1)\n",
        "print(myArr1.shape)"
      ],
      "metadata": {
        "colab": {
          "base_uri": "https://localhost:8080/"
        },
        "id": "L4w973_hiyiX",
        "outputId": "58405a4a-0a26-423d-91b0-845d26fb986e"
      },
      "execution_count": 13,
      "outputs": [
        {
          "output_type": "stream",
          "name": "stdout",
          "text": [
            "[[1 2 3]\n",
            " [4 5 6]]\n",
            "(2, 3)\n"
          ]
        }
      ]
    },
    {
      "cell_type": "code",
      "source": [
        "myArr3=tmp.zeros((5,5))\n",
        "print(myArr3)\n"
      ],
      "metadata": {
        "colab": {
          "base_uri": "https://localhost:8080/"
        },
        "id": "JGepqk3LjAW3",
        "outputId": "69972bc1-f0e6-44ae-e83e-d0179af5847f"
      },
      "execution_count": 17,
      "outputs": [
        {
          "output_type": "stream",
          "name": "stdout",
          "text": [
            "[[0. 0. 0. 0. 0.]\n",
            " [0. 0. 0. 0. 0.]\n",
            " [0. 0. 0. 0. 0.]\n",
            " [0. 0. 0. 0. 0.]\n",
            " [0. 0. 0. 0. 0.]]\n"
          ]
        }
      ]
    },
    {
      "cell_type": "code",
      "source": [
        "myArr4=tmp.full((3,6),10)\n",
        "print(myArr4)\n",
        "myArr5=tmp.eye(5)\n",
        "print(myArr5)\n",
        "myArr6=tmp.random.random((3,4))\n",
        "print(myArr6)"
      ],
      "metadata": {
        "colab": {
          "base_uri": "https://localhost:8080/"
        },
        "id": "zHTso0ikjenx",
        "outputId": "90123ac5-829c-43d5-c8ba-e0e673370f4f"
      },
      "execution_count": 20,
      "outputs": [
        {
          "output_type": "stream",
          "name": "stdout",
          "text": [
            "[[10 10 10 10 10 10]\n",
            " [10 10 10 10 10 10]\n",
            " [10 10 10 10 10 10]]\n",
            "[[1. 0. 0. 0. 0.]\n",
            " [0. 1. 0. 0. 0.]\n",
            " [0. 0. 1. 0. 0.]\n",
            " [0. 0. 0. 1. 0.]\n",
            " [0. 0. 0. 0. 1.]]\n",
            "[[0.34299808 0.97878199 0.21436882 0.54735629]\n",
            " [0.20490155 0.64877764 0.19187911 0.27510043]\n",
            " [0.1163527  0.44908068 0.73600071 0.29873526]]\n"
          ]
        }
      ]
    },
    {
      "cell_type": "code",
      "source": [
        "myArr7=tmp.random.random((5,5))\n",
        "print(myArr7)"
      ],
      "metadata": {
        "colab": {
          "base_uri": "https://localhost:8080/"
        },
        "id": "6WHjV1sqkEcf",
        "outputId": "72c0a6bf-3337-42cb-95f5-2afd4c6d18c2"
      },
      "execution_count": 21,
      "outputs": [
        {
          "output_type": "stream",
          "name": "stdout",
          "text": [
            "[[0.99587664 0.36674343 0.86459688 0.15271238 0.73321426]\n",
            " [0.70698554 0.51793265 0.94285242 0.58066919 0.27347871]\n",
            " [0.53131576 0.72903392 0.27182263 0.14212652 0.90643171]\n",
            " [0.0637591  0.79337691 0.65480723 0.6217096  0.68678729]\n",
            " [0.72040408 0.22002142 0.5822406  0.87510018 0.85152758]]\n"
          ]
        }
      ]
    },
    {
      "cell_type": "code",
      "source": [
        "myArr8=tmp.random.randint(100,size=(5,5))\n",
        "print(myArr8)"
      ],
      "metadata": {
        "colab": {
          "base_uri": "https://localhost:8080/"
        },
        "id": "dB6DQOpLkNlW",
        "outputId": "bd2f1529-c6b8-41e6-8e3d-0fb6fee3d391"
      },
      "execution_count": 23,
      "outputs": [
        {
          "output_type": "stream",
          "name": "stdout",
          "text": [
            "[[23 42 39  3 78]\n",
            " [24 95 62 80 36]\n",
            " [47 57  0 19 16]\n",
            " [68 28 56  5 80]\n",
            " [44 22  6 36 11]]\n"
          ]
        }
      ]
    },
    {
      "cell_type": "code",
      "source": [
        "newMatrix=myArr8[:2,:2]\n",
        "print(newMatrix)"
      ],
      "metadata": {
        "colab": {
          "base_uri": "https://localhost:8080/"
        },
        "id": "ivTfE_cTklFX",
        "outputId": "09f7dd68-a2c1-4140-d9b0-7d51085b924e"
      },
      "execution_count": 25,
      "outputs": [
        {
          "output_type": "stream",
          "name": "stdout",
          "text": [
            "[[23 42]\n",
            " [24 95]]\n"
          ]
        }
      ]
    },
    {
      "cell_type": "code",
      "source": [
        "myArr8[2,2]=1000\n",
        "print(myArr8)"
      ],
      "metadata": {
        "colab": {
          "base_uri": "https://localhost:8080/"
        },
        "id": "LG-jhC44lTF_",
        "outputId": "ced14891-3600-4b38-917d-852fab714676"
      },
      "execution_count": 27,
      "outputs": [
        {
          "output_type": "stream",
          "name": "stdout",
          "text": [
            "[[  23   42   39    3   78]\n",
            " [  24   95   62   80   36]\n",
            " [  47   57 1000   19   16]\n",
            " [  68   28   56    5   80]\n",
            " [  44   22    6   36   11]]\n"
          ]
        }
      ]
    },
    {
      "cell_type": "code",
      "source": [
        "print(myArr8[2,:])"
      ],
      "metadata": {
        "colab": {
          "base_uri": "https://localhost:8080/"
        },
        "id": "h3vTAPsIl5F1",
        "outputId": "559145c7-c6c1-4cd3-cb88-899ac05c525f"
      },
      "execution_count": 29,
      "outputs": [
        {
          "output_type": "stream",
          "name": "stdout",
          "text": [
            "[  47   57 1000   19   16]\n"
          ]
        }
      ]
    },
    {
      "cell_type": "code",
      "source": [
        "print(myArr8[:,2].shape)"
      ],
      "metadata": {
        "colab": {
          "base_uri": "https://localhost:8080/"
        },
        "id": "BHENr15FmHxV",
        "outputId": "821b143c-c23e-4a2e-abec-629b03146865"
      },
      "execution_count": 30,
      "outputs": [
        {
          "output_type": "stream",
          "name": "stdout",
          "text": [
            "(5,)\n"
          ]
        }
      ]
    },
    {
      "cell_type": "code",
      "source": [
        "subMatrix=myArr8[1:4,1:4]\n",
        "print(subMatrix)"
      ],
      "metadata": {
        "colab": {
          "base_uri": "https://localhost:8080/"
        },
        "id": "bA5zSI_smQn1",
        "outputId": "2056e102-f23d-497f-b108-99b77df8bc08"
      },
      "execution_count": 34,
      "outputs": [
        {
          "output_type": "stream",
          "name": "stdout",
          "text": [
            "[[  95   62   80]\n",
            " [  57 1000   19]\n",
            " [  28   56    5]]\n"
          ]
        }
      ]
    }
  ]
}