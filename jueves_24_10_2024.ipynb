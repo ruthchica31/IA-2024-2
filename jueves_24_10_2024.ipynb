{
  "nbformat": 4,
  "nbformat_minor": 0,
  "metadata": {
    "colab": {
      "provenance": [],
      "authorship_tag": "ABX9TyP1JdEF/9QYRenDz+h7e5fc",
      "include_colab_link": true
    },
    "kernelspec": {
      "name": "python3",
      "display_name": "Python 3"
    },
    "language_info": {
      "name": "python"
    }
  },
  "cells": [
    {
      "cell_type": "markdown",
      "metadata": {
        "id": "view-in-github",
        "colab_type": "text"
      },
      "source": [
        "<a href=\"https://colab.research.google.com/github/ruthchica31/IA-2024-2/blob/main/jueves_24_10_2024.ipynb\" target=\"_parent\"><img src=\"https://colab.research.google.com/assets/colab-badge.svg\" alt=\"Open In Colab\"/></a>"
      ]
    },
    {
      "cell_type": "code",
      "execution_count": null,
      "metadata": {
        "colab": {
          "base_uri": "https://localhost:8080/"
        },
        "id": "XUkOFHtAop5z",
        "outputId": "02946962-0d6e-4feb-a454-5330798d89ba"
      },
      "outputs": [
        {
          "output_type": "stream",
          "name": "stdout",
          "text": [
            "3.10.12 (main, Sep 11 2024, 15:47:36) [GCC 11.4.0]\n"
          ]
        }
      ],
      "source": [
        "import sys\n",
        "print(sys.version)\n"
      ]
    },
    {
      "cell_type": "code",
      "source": [
        "numero=5\n",
        "tmp1=\"ruth\"\n",
        "print(f\"Mi nombre es {tmp1}\")\n",
        "print(numero+5)\n",
        "print(numero-3)\n",
        "print(numero*3)\n",
        "print(numero/3)\n",
        "print(numero%3)\n",
        "print(numero**3)\n",
        "numero *= 2\n",
        "print(numero)\n",
        "print(type(numero))\n"
      ],
      "metadata": {
        "colab": {
          "base_uri": "https://localhost:8080/"
        },
        "id": "nJIJw9hdseFl",
        "outputId": "56fcdcc7-412b-4d33-9cb3-0cc020b8e0ec"
      },
      "execution_count": null,
      "outputs": [
        {
          "output_type": "stream",
          "name": "stdout",
          "text": [
            "Mi nombre es ruth\n",
            "10\n",
            "2\n",
            "15\n",
            "1.6666666666666667\n",
            "2\n",
            "125\n",
            "10\n",
            "<class 'int'>\n"
          ]
        }
      ]
    },
    {
      "cell_type": "code",
      "source": [
        "t=True\n",
        "f=False\n",
        "print(type(t))\n",
        "print(t and f)\n",
        "print(t or f)\n",
        "print(not t)\n",
        "print(t!=f)\n"
      ],
      "metadata": {
        "colab": {
          "base_uri": "https://localhost:8080/"
        },
        "id": "eKJlkWw0tnxb",
        "outputId": "010a70e6-37f4-4d13-dfd9-61d838f852bf"
      },
      "execution_count": null,
      "outputs": [
        {
          "output_type": "stream",
          "name": "stdout",
          "text": [
            "<class 'bool'>\n",
            "False\n",
            "True\n",
            "False\n",
            "True\n"
          ]
        }
      ]
    },
    {
      "cell_type": "code",
      "source": [
        "aux1='hello'\n",
        "aux2=' world'\n",
        "print(aux1+aux2)\n",
        "print (aux1*4)\n",
        "print(aux1.capitalize())\n",
        "print(aux1.upper())\n",
        "aux3='RUTH'\n",
        "print(aux3.lower())\n",
        "print(aux1.replace('l','L'))\n"
      ],
      "metadata": {
        "colab": {
          "base_uri": "https://localhost:8080/"
        },
        "id": "IkHBoMOVwgbk",
        "outputId": "cabad42f-1cbe-46cd-d2b7-d3337f2e7384"
      },
      "execution_count": null,
      "outputs": [
        {
          "output_type": "stream",
          "name": "stdout",
          "text": [
            "hello world\n",
            "hellohellohellohello\n",
            "Hello\n",
            "HELLO\n",
            "ruth\n",
            "heLLo\n"
          ]
        }
      ]
    },
    {
      "cell_type": "code",
      "source": [
        "aux2=list()\n",
        "aux2.append(4)\n",
        "aux2.append(\"ruth\")\n",
        "aux2.append(\"True\")\n",
        "print(aux2)\n",
        "print(aux2[0])\n",
        "print(aux2[-1])\n",
        "print(aux2[2])\n",
        "aux2.pop()\n",
        "print(aux2)\n",
        "print(len(aux2))\n",
        "aux2[1]='juan'\n",
        "print(aux2)\n",
        "aux3=[1,2,3,'Juan',True,False]\n",
        "print (aux3)\n",
        "aux3.pop()\n",
        "print(aux3)\n"
      ],
      "metadata": {
        "colab": {
          "base_uri": "https://localhost:8080/"
        },
        "id": "INaWLVZnxwA8",
        "outputId": "bdfe3ac3-6f33-4e75-c1ee-be2af7686e8e"
      },
      "execution_count": null,
      "outputs": [
        {
          "output_type": "stream",
          "name": "stdout",
          "text": [
            "[4, 'ruth', 'True']\n",
            "4\n",
            "True\n",
            "True\n",
            "[4, 'ruth']\n",
            "2\n",
            "[4, 'juan']\n",
            "[1, 2, 3, 'Juan', True, False]\n",
            "[1, 2, 3, 'Juan', True]\n"
          ]
        }
      ]
    },
    {
      "cell_type": "code",
      "source": [
        "tmp1=list(range(100))\n",
        "for x in tmp1:\n",
        "  print(f\"El valor es {x}\")\n",
        "\n"
      ],
      "metadata": {
        "colab": {
          "base_uri": "https://localhost:8080/"
        },
        "id": "10REnIDB0azB",
        "outputId": "2de460b7-a155-41a8-cf88-b5ab9a3b103d"
      },
      "execution_count": null,
      "outputs": [
        {
          "output_type": "stream",
          "name": "stdout",
          "text": [
            "El valor es 0\n",
            "El valor es 1\n",
            "El valor es 2\n",
            "El valor es 3\n",
            "El valor es 4\n",
            "El valor es 5\n",
            "El valor es 6\n",
            "El valor es 7\n",
            "El valor es 8\n",
            "El valor es 9\n",
            "El valor es 10\n",
            "El valor es 11\n",
            "El valor es 12\n",
            "El valor es 13\n",
            "El valor es 14\n",
            "El valor es 15\n",
            "El valor es 16\n",
            "El valor es 17\n",
            "El valor es 18\n",
            "El valor es 19\n",
            "El valor es 20\n",
            "El valor es 21\n",
            "El valor es 22\n",
            "El valor es 23\n",
            "El valor es 24\n",
            "El valor es 25\n",
            "El valor es 26\n",
            "El valor es 27\n",
            "El valor es 28\n",
            "El valor es 29\n",
            "El valor es 30\n",
            "El valor es 31\n",
            "El valor es 32\n",
            "El valor es 33\n",
            "El valor es 34\n",
            "El valor es 35\n",
            "El valor es 36\n",
            "El valor es 37\n",
            "El valor es 38\n",
            "El valor es 39\n",
            "El valor es 40\n",
            "El valor es 41\n",
            "El valor es 42\n",
            "El valor es 43\n",
            "El valor es 44\n",
            "El valor es 45\n",
            "El valor es 46\n",
            "El valor es 47\n",
            "El valor es 48\n",
            "El valor es 49\n",
            "El valor es 50\n",
            "El valor es 51\n",
            "El valor es 52\n",
            "El valor es 53\n",
            "El valor es 54\n",
            "El valor es 55\n",
            "El valor es 56\n",
            "El valor es 57\n",
            "El valor es 58\n",
            "El valor es 59\n",
            "El valor es 60\n",
            "El valor es 61\n",
            "El valor es 62\n",
            "El valor es 63\n",
            "El valor es 64\n",
            "El valor es 65\n",
            "El valor es 66\n",
            "El valor es 67\n",
            "El valor es 68\n",
            "El valor es 69\n",
            "El valor es 70\n",
            "El valor es 71\n",
            "El valor es 72\n",
            "El valor es 73\n",
            "El valor es 74\n",
            "El valor es 75\n",
            "El valor es 76\n",
            "El valor es 77\n",
            "El valor es 78\n",
            "El valor es 79\n",
            "El valor es 80\n",
            "El valor es 81\n",
            "El valor es 82\n",
            "El valor es 83\n",
            "El valor es 84\n",
            "El valor es 85\n",
            "El valor es 86\n",
            "El valor es 87\n",
            "El valor es 88\n",
            "El valor es 89\n",
            "El valor es 90\n",
            "El valor es 91\n",
            "El valor es 92\n",
            "El valor es 93\n",
            "El valor es 94\n",
            "El valor es 95\n",
            "El valor es 96\n",
            "El valor es 97\n",
            "El valor es 98\n",
            "El valor es 99\n"
          ]
        }
      ]
    },
    {
      "cell_type": "code",
      "source": [
        "listaAnimales=list()\n",
        "listaAnimales.append(\"gato\")\n",
        "listaAnimales.append(\"perro\")\n",
        "listaAnimales.append(\"leon\")\n",
        "listaAnimales.append(\"tigre\")\n",
        "listaAnimales.append(\"elefante\")\n",
        "print(listaAnimales)\n",
        "tmp1=listaAnimales[:3]\n",
        "print(\"Animlaes %s\"%(tmp1))\n",
        "tmp2=listaAnimales[2:]\n",
        "print(\"Animlaes %s\"%(tmp2))\n",
        "tmp3=listaAnimales[2:4]\n",
        "print(\"Animlaes %s\"%(tmp3))\n",
        "tmp3=listaAnimales[2:4]=[\"2\",\"5\"]\n",
        "print(\"Animlaes %s\"%(listaAnimales))\n",
        "tmp3=listaAnimales[2:4]=[\"vaca\",\"gallina\"]\n",
        "print(\"Animlaes %s\"%(listaAnimales))"
      ],
      "metadata": {
        "colab": {
          "base_uri": "https://localhost:8080/"
        },
        "id": "NxGYIzebxUb6",
        "outputId": "db1916f9-728f-427e-bd22-a24933868fad"
      },
      "execution_count": null,
      "outputs": [
        {
          "output_type": "stream",
          "name": "stdout",
          "text": [
            "['gato', 'perro', 'leon', 'tigre', 'elefante']\n",
            "Animlaes ['gato', 'perro', 'leon']\n",
            "Animlaes ['leon', 'tigre', 'elefante']\n",
            "Animlaes ['leon', 'tigre']\n",
            "Animlaes ['gato', 'perro', '2', '5', 'elefante']\n",
            "Animlaes ['gato', 'perro', 'vaca', 'gallina', 'elefante']\n"
          ]
        }
      ]
    },
    {
      "cell_type": "code",
      "source": [
        "for numero,animal in enumerate(listaAnimales):\n",
        "  print('%d: %s' %(numero+1,animal))\n",
        "  print(f\"El animal {numero} es {animal}\")"
      ],
      "metadata": {
        "colab": {
          "base_uri": "https://localhost:8080/"
        },
        "id": "9TAVxDFDzxtQ",
        "outputId": "968444cd-1d48-44b3-9405-61dafdf20b91"
      },
      "execution_count": null,
      "outputs": [
        {
          "output_type": "stream",
          "name": "stdout",
          "text": [
            "1: gato\n",
            "El animal 0 es gato\n",
            "2: perro\n",
            "El animal 1 es perro\n",
            "3: vaca\n",
            "El animal 2 es vaca\n",
            "4: gallina\n",
            "El animal 3 es gallina\n",
            "5: elefante\n",
            "El animal 4 es elefante\n"
          ]
        }
      ]
    },
    {
      "cell_type": "code",
      "source": [
        "listNum=list(range(20))\n",
        "print(listNum)\n",
        "listNumCuadrado=list()\n",
        "for numero in listNum:\n",
        "  listNumCuadrado.append(numero**2)\n",
        "print(listNumCuadrado)"
      ],
      "metadata": {
        "colab": {
          "base_uri": "https://localhost:8080/"
        },
        "id": "qYsC-o-X0ZjE",
        "outputId": "fe59b35d-ccf9-47c8-ebef-731cc55213bf"
      },
      "execution_count": null,
      "outputs": [
        {
          "output_type": "stream",
          "name": "stdout",
          "text": [
            "[0, 1, 2, 3, 4, 5, 6, 7, 8, 9, 10, 11, 12, 13, 14, 15, 16, 17, 18, 19]\n",
            "[0, 1, 4, 9, 16, 25, 36, 49, 64, 81, 100, 121, 144, 169, 196, 225, 256, 289, 324, 361]\n"
          ]
        }
      ]
    },
    {
      "cell_type": "code",
      "source": [
        "listaCuadrados=[ i**2 for i in listNum]\n",
        "print(listaCuadrados)"
      ],
      "metadata": {
        "colab": {
          "base_uri": "https://localhost:8080/"
        },
        "id": "0zlvx2gI2CHu",
        "outputId": "692c6c55-c3f7-4a7c-f912-2d767b009831"
      },
      "execution_count": null,
      "outputs": [
        {
          "output_type": "stream",
          "name": "stdout",
          "text": [
            "[0, 1, 4, 9, 16, 25, 36, 49, 64, 81, 100, 121, 144, 169, 196, 225, 256, 289, 324, 361]\n"
          ]
        }
      ]
    },
    {
      "cell_type": "code",
      "source": [
        "listaCuadraos=[ i for i in listNum if i%2==1]\n",
        "print(listaCuadraos)"
      ],
      "metadata": {
        "colab": {
          "base_uri": "https://localhost:8080/"
        },
        "id": "FWn8N7EZ2kGW",
        "outputId": "287ab94d-88cf-4ee7-dbac-27747b711fba"
      },
      "execution_count": null,
      "outputs": [
        {
          "output_type": "stream",
          "name": "stdout",
          "text": [
            "[1, 3, 5, 7, 9, 11, 13, 15, 17, 19]\n"
          ]
        }
      ]
    },
    {
      "cell_type": "code",
      "source": [
        "myDiccionario={'dog':'bonito','elefante':'grande'}\n",
        "print(myDiccionario)"
      ],
      "metadata": {
        "colab": {
          "base_uri": "https://localhost:8080/"
        },
        "id": "SavDFN8Q3rDs",
        "outputId": "aeb14917-b5e7-44cb-a84a-e65d431b18b5"
      },
      "execution_count": null,
      "outputs": [
        {
          "output_type": "stream",
          "name": "stdout",
          "text": [
            "{'dog': 'bonito', 'elefante': 'grande'}\n"
          ]
        }
      ]
    },
    {
      "cell_type": "code",
      "source": [
        "for key in myDiccionario:\n",
        "  print(myDiccionario[key])\n"
      ],
      "metadata": {
        "colab": {
          "base_uri": "https://localhost:8080/"
        },
        "id": "RTHb_O8C4WWe",
        "outputId": "ed3e392d-f1f7-47e5-d0a0-df0861e91039"
      },
      "execution_count": null,
      "outputs": [
        {
          "output_type": "stream",
          "name": "stdout",
          "text": [
            "bonito\n",
            "grande\n"
          ]
        }
      ]
    },
    {
      "cell_type": "code",
      "source": [
        "diccionarioCuadrados={'1':1,'2':4,'3':9,'4':16}\n",
        "print(diccionarioCuadrados)\n",
        "diccionarioCuadrados={ i:1**2 for i in listNum }\n",
        "print(diccionarioCuadrados)"
      ],
      "metadata": {
        "colab": {
          "base_uri": "https://localhost:8080/"
        },
        "id": "p2uaAmRF4u9o",
        "outputId": "d877d037-ef5e-486c-f0f7-a10183c05f5f"
      },
      "execution_count": null,
      "outputs": [
        {
          "output_type": "stream",
          "name": "stdout",
          "text": [
            "{'1': 1, '2': 4, '3': 9, '4': 16}\n",
            "{0: 1, 1: 1, 2: 1, 3: 1, 4: 1, 5: 1, 6: 1, 7: 1, 8: 1, 9: 1, 10: 1, 11: 1, 12: 1, 13: 1, 14: 1, 15: 1, 16: 1, 17: 1, 18: 1, 19: 1}\n"
          ]
        }
      ]
    },
    {
      "cell_type": "code",
      "source": [
        "setElementos=set()\n",
        "setElementos.add('perro')\n",
        "setElementos.add('gato')\n",
        "setElementos.add('leon')\n",
        "setElementos.add('tigre')\n",
        "setElementos.add('elefante')\n",
        "print(setElementos)"
      ],
      "metadata": {
        "colab": {
          "base_uri": "https://localhost:8080/"
        },
        "id": "Y1Fo-6iF8lxF",
        "outputId": "a9050a4d-5650-43e8-a220-089068619470"
      },
      "execution_count": null,
      "outputs": [
        {
          "output_type": "stream",
          "name": "stdout",
          "text": [
            "{'leon', 'perro', 'elefante', 'gato', 'tigre'}\n"
          ]
        }
      ]
    },
    {
      "cell_type": "markdown",
      "source": [],
      "metadata": {
        "id": "288hiOUX81cd"
      }
    },
    {
      "cell_type": "code",
      "source": [
        "print('perro' in setElementos)\n",
        "setElementos.add('gato')\n",
        "print(setElementos)\n",
        "# setElementos.remove('elefante')\n",
        "print(setElementos)\n",
        "print (len(setElementos))"
      ],
      "metadata": {
        "colab": {
          "base_uri": "https://localhost:8080/"
        },
        "id": "pPF424uv59sh",
        "outputId": "04ad8349-2909-460f-f477-33fc1c048343"
      },
      "execution_count": null,
      "outputs": [
        {
          "output_type": "stream",
          "name": "stdout",
          "text": [
            "True\n",
            "{'leon', 'perro', 'elefante', 'gato', 'tigre'}\n",
            "{'leon', 'perro', 'elefante', 'gato', 'tigre'}\n",
            "5\n"
          ]
        }
      ]
    },
    {
      "cell_type": "markdown",
      "source": [
        "funciones"
      ],
      "metadata": {
        "id": "1ToUuUE99G1f"
      }
    },
    {
      "cell_type": "code",
      "source": [
        "def suma(a,b):\n",
        "  return a+b\n",
        "\n",
        "  tmp1=5\n",
        "  tmp2=10\n",
        "print('la suma de los valores es igual:', suma(tmp1,tmp2))\n"
      ],
      "metadata": {
        "colab": {
          "base_uri": "https://localhost:8080/"
        },
        "id": "ahdQFt6P9I3w",
        "outputId": "bde9f274-9f9b-4a43-d4bf-d3a41f5f37ff"
      },
      "execution_count": null,
      "outputs": [
        {
          "output_type": "stream",
          "name": "stdout",
          "text": [
            "la suma de los valores es igual: [0, 1, 2, 3, 4, 5, 6, 7, 8, 9, 10, 11, 12, 13, 14, 15, 16, 17, 18, 19, 20, 21, 22, 23, 24, 25, 26, 27, 28, 29, 30, 31, 32, 33, 34, 35, 36, 37, 38, 39, 40, 41, 42, 43, 44, 45, 46, 47, 48, 49, 'leon', 'tigre', 'elefante']\n"
          ]
        }
      ]
    },
    {
      "cell_type": "code",
      "source": [
        "numero = -5\n",
        "\n",
        "if numero > 0:\n",
        "  print(f\"{numero} es positivo\")  # el numero es positivo\n",
        "else:\n",
        "  print(f\"{numero} es negativo\")  # el numero es negativo"
      ],
      "metadata": {
        "colab": {
          "base_uri": "https://localhost:8080/"
        },
        "id": "_-4LLoin93c0",
        "outputId": "0cc2a27d-a1d0-49af-abbe-04f08efe3e6a"
      },
      "execution_count": null,
      "outputs": [
        {
          "output_type": "stream",
          "name": "stdout",
          "text": [
            "-5 es negativo\n"
          ]
        }
      ]
    },
    {
      "cell_type": "code",
      "source": [
        "listNumeros=[1,2,3,4,5,6,7,8,9,10]\n",
        "def evaluacionSigno(tmp):\n",
        "  if tmp>0:\n",
        "    return 'the numero es entero positivo'\n",
        "  elif tmp<0:\n",
        "    return 'the numero es entero negativo'\n",
        "  else:\n",
        "    return 'the numero es cero'\n",
        "for cadanumero in listNumeros:\n",
        "  print(evaluacionSigno(cadanumero))\n",
        "    return 'the numero es cero'\n",
        "     for cadanumero in listNumeros:\n",
        "          print(evaluacionSigno(cadanumero))"
      ],
      "metadata": {
        "colab": {
          "base_uri": "https://localhost:8080/",
          "height": 106
        },
        "id": "M1aaV34F-sbe",
        "outputId": "def9e701-1992-4c3f-9902-70157a46d464"
      },
      "execution_count": null,
      "outputs": [
        {
          "output_type": "error",
          "ename": "IndentationError",
          "evalue": "unexpected indent (<ipython-input-79-a899bf83817d>, line 11)",
          "traceback": [
            "\u001b[0;36m  File \u001b[0;32m\"<ipython-input-79-a899bf83817d>\"\u001b[0;36m, line \u001b[0;32m11\u001b[0m\n\u001b[0;31m    return 'the numero es cero'\u001b[0m\n\u001b[0m    ^\u001b[0m\n\u001b[0;31mIndentationError\u001b[0m\u001b[0;31m:\u001b[0m unexpected indent\n"
          ]
        }
      ]
    },
    {
      "cell_type": "code",
      "source": [
        "class saludos(object):\n",
        "  #contructor\n",
        "  def __init__(self, nombre):\n",
        "    self.nombre=nombre\n",
        "    print('Se ejecuta automaticamente')\n",
        "    def mensaje(self):\n",
        "      print('hola',self.nombre)\n",
        "\n",
        "    name1=saludos('ruth')\n",
        "    name1.mensaje()"
      ],
      "metadata": {
        "id": "yuswzSV6_I1A"
      },
      "execution_count": null,
      "outputs": []
    },
    {
      "cell_type": "code",
      "source": [
        "class numeros(object):\n",
        "  #contructor\n",
        "  def __init__(self, numero1,numero2):\n",
        "    self.numero1=numero1\n",
        "    self.numero2=numero2\n",
        "    def suma(self):\n",
        "      return self.numero1+self.numero2\n",
        "      problema1=numeros(5,10)\n",
        "      print(problema1.suma())\n",
        "    def resta(self):\n",
        "      return self.numero1-self.numero2\n",
        "      problema1=numeros(5,10)\n",
        "      print(problema1.resta())\n",
        "\n"
      ],
      "metadata": {
        "id": "kkO_djsSCuBl"
      },
      "execution_count": null,
      "outputs": []
    }
  ]
}